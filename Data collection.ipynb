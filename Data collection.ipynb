{
 "cells": [
  {
   "cell_type": "code",
   "execution_count": 1,
   "metadata": {},
   "outputs": [],
   "source": [
    "import requests\n",
    "import json\n",
    "import gzip\n",
    "from time import time, sleep"
   ]
  },
  {
   "cell_type": "code",
   "execution_count": null,
   "metadata": {},
   "outputs": [],
   "source": [
    "while True:\n",
    "   \n",
    "    t_start = time()\n",
    "    t_string = str(int(t_start))\n",
    "    response_scooters = requests.get(\"https://api.voiapp.io/v1/vehicle/status/ready?lat=60.1699&lng=24.9384\")\n",
    "    response_bikes = requests.get(\"http://api.citybik.es/v2/networks/citybikes-helsinki\")\n",
    "   \n",
    "    if response_scooters.status_code == requests.codes.ok and response_bikes.status_code == requests.codes.ok:\n",
    "        with gzip.open('scooters/d-'+t_string+'.json.gz', 'wb') as file:\n",
    "            file.write(bytes(json.dumps(response_scooters.json(), sort_keys=True, indent=4), encoding='utf-8'))\n",
    "        with gzip.open('bikes/d-'+t_string+'.json.gz', 'wb') as file:\n",
    "            file.write(bytes(json.dumps(response_bikes.json(), sort_keys=True, indent=4), encoding='utf-8'))\n",
    "        spent = time() - t_start\n",
    "        print('Success:', t_string, round(spent, 4))\n",
    "    else:\n",
    "        spent = time() - t_start\n",
    "        print('Failure:', t_string, round(spent, 4))\n",
    "    sleep(5*60 - spent)"
   ]
  }
 ],
 "metadata": {
  "kernelspec": {
   "display_name": "Python 3",
   "language": "python",
   "name": "python3"
  },
  "language_info": {
   "codemirror_mode": {
    "name": "ipython",
    "version": 3
   },
   "file_extension": ".py",
   "mimetype": "text/x-python",
   "name": "python",
   "nbconvert_exporter": "python",
   "pygments_lexer": "ipython3",
   "version": "3.7.3"
  }
 },
 "nbformat": 4,
 "nbformat_minor": 2
}
